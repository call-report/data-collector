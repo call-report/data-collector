{
 "cells": [
  {
   "cell_type": "markdown",
   "metadata": {},
   "source": [
    "# 🔧 Development Setup (Optional)\n",
    "\n",
    "If you're running this notebook from a cloned repository (not an installed package), run the next cells to:\n",
    "\n",
    "1. Locate the project root (looks for `pyproject.toml` / `setup.py`)\n",
    "2. Change working directory to the project root (if currently in `examples/`)\n",
    "3. Add the project root to `sys.path`\n",
    "4. Provide a helper to reload the package without restarting the kernel\n",
    "\n",
    "You can skip these in a packaged / production environment.\n",
    "\n",
    "---"
   ]
  },
  {
   "cell_type": "code",
   "execution_count": null,
   "metadata": {},
   "outputs": [],
   "source": "# Dev bootstrap: project root detection & sys.path setup\nimport os, sys, pathlib\nfrom datetime import datetime\n\nstart_cwd = pathlib.Path.cwd()\nprint(f\"🔍 Starting CWD: {start_cwd}\")\n\nproject_root = None\nfor candidate in [start_cwd, *start_cwd.parents]:\n    if (candidate / 'pyproject.toml').exists() or (candidate / 'setup.py').exists():\n        project_root = candidate\n        break\n\nif project_root is None:\n    raise RuntimeError('Project root not found (no pyproject.toml or setup.py)')\n\nif start_cwd.name == 'examples':\n    os.chdir(project_root)\n    print(f\"📂 Changed directory to project root: {project_root}\")\nelse:\n    print(f\"📂 Using directory: {pathlib.Path.cwd()}\")\n\nroot_str = str(project_root.resolve())\nif root_str not in sys.path:\n    sys.path.insert(0, root_str)\n    print(f\"➕ Added project root to sys.path: {root_str}\")\nelse:\n    print('✔ Project root already on sys.path')\n\nprint('🧪 Import check...')\ntry:\n    import ffiec_data_collector as fdc\n    print(f\"✅ Imported ffiec_data_collector (version={getattr(fdc, '__version__', 'unknown')})\")\nexcept Exception as e:\n    print(f\"❌ Import failed: {e}\")\n\nprint('✨ Dev bootstrap complete at', datetime.now().isoformat())"
  },
  {
   "cell_type": "code",
   "execution_count": null,
   "metadata": {},
   "outputs": [],
   "source": [
    "# Optional editable install (uncomment to run once)\n",
    "# %pip install -e .\n",
    "\n",
    "from importlib import reload\n",
    "import ffiec_data_collector as fdc\n",
    "\n",
    "def dev_reload():\n",
    "    try:\n",
    "        reload(fdc)\n",
    "        print('🔄 Reloaded ffiec_data_collector')\n",
    "    except Exception as e:\n",
    "        print(f'❌ Reload failed: {e}')\n",
    "\n",
    "print('Helper ready: dev_reload()')"
   ]
  },
  {
   "cell_type": "markdown",
   "metadata": {},
   "source": [
    "# FFIEC Data Collector Demo\n",
    "\n",
    "This notebook demonstrates how to use the FFIEC Data Collector library to download bulk financial data from the FFIEC CDR system."
   ]
  },
  {
   "cell_type": "markdown",
   "metadata": {},
   "source": [
    "## Installation\n",
    "\n",
    "First, install the package:\n",
    "\n",
    "```bash\n",
    "pip install ffiec-data-collector\n",
    "```\n",
    "\n",
    "Or install from source:\n",
    "\n",
    "```bash\n",
    "pip install -e .\n",
    "```"
   ]
  },
  {
   "cell_type": "markdown",
   "metadata": {},
   "source": [
    "## Basic Usage"
   ]
  },
  {
   "cell_type": "code",
   "execution_count": null,
   "metadata": {},
   "outputs": [],
   "source": [
    "from ffiec_data_collector import FFIECDownloader, Product, FileFormat\n",
    "from pathlib import Path\n",
    "import pandas as pd"
   ]
  },
  {
   "cell_type": "code",
   "execution_count": null,
   "metadata": {},
   "outputs": [],
   "source": [
    "# Initialize the downloader\n",
    "download_dir = Path(\"./downloads\")\n",
    "downloader = FFIECDownloader(download_dir=download_dir)\n",
    "\n",
    "print(f\"Downloads will be saved to: {download_dir.absolute()}\")"
   ]
  },
  {
   "cell_type": "markdown",
   "metadata": {},
   "source": [
    "## 1. Available Products\n",
    "\n",
    "Let's see what data products are available:"
   ]
  },
  {
   "cell_type": "code",
   "execution_count": null,
   "metadata": {},
   "outputs": [],
   "source": [
    "# List all available products\n",
    "products = downloader.get_available_products()\n",
    "\n",
    "for product in products:\n",
    "    print(f\"- {product.display_name}\")\n",
    "    print(f\"  Value: {product.value}\")\n",
    "    print(f\"  Type: {'UBPR' if product.is_ubpr else 'Call Report'}\")\n",
    "    print(f\"  Periods: {'Single' if product.is_single_period else 'Multiple'}\")\n",
    "    print()"
   ]
  },
  {
   "cell_type": "markdown",
   "metadata": {},
   "source": [
    "## 2. Get Available Reporting Periods"
   ]
  },
  {
   "cell_type": "code",
   "execution_count": null,
   "metadata": {},
   "outputs": [],
   "source": [
    "# Get available periods for Call Reports\n",
    "periods = downloader.select_product(Product.CALL_SINGLE)\n",
    "\n",
    "print(f\"Available reporting periods for Call Reports:\")\n",
    "print(f\"Total: {len(periods)} quarters\\n\")\n",
    "\n",
    "# Show the 5 most recent periods\n",
    "for period in periods[:5]:\n",
    "    print(f\"- {period} (Value: {period.value})\")"
   ]
  },
  {
   "cell_type": "markdown",
   "metadata": {},
   "source": [
    "## 3. Download Latest Call Report Data"
   ]
  },
  {
   "cell_type": "code",
   "execution_count": null,
   "metadata": {},
   "outputs": [],
   "source": [
    "# Download the latest Call Report in XBRL format\n",
    "print(\"Downloading latest Call Report data...\")\n",
    "result = downloader.download_latest(Product.CALL_SINGLE, FileFormat.XBRL)\n",
    "\n",
    "if result.success:\n",
    "    print(f\"✓ Download successful!\")\n",
    "    print(f\"  File: {result.filename}\")\n",
    "    print(f\"  Size: {result.size_bytes:,} bytes\")\n",
    "    print(f\"  Path: {result.file_path}\")\n",
    "else:\n",
    "    print(f\"✗ Download failed: {result.error_message}\")"
   ]
  },
  {
   "cell_type": "markdown",
   "metadata": {},
   "source": [
    "## 4. Download Specific Quarter"
   ]
  },
  {
   "cell_type": "code",
   "execution_count": null,
   "metadata": {},
   "outputs": [],
   "source": [
    "# Download a specific quarter (e.g., Q1 2024)\n",
    "quarter = \"20240331\"  # March 31, 2024\n",
    "\n",
    "print(f\"Downloading Call Report for {quarter}...\")\n",
    "result = downloader.download_cdr_single_period(quarter, FileFormat.TSV)\n",
    "\n",
    "if result.success:\n",
    "    print(f\"✓ Downloaded: {result.filename}\")\n",
    "    print(f\"  Format: Tab-delimited (TSV)\")\n",
    "    print(f\"  Size: {result.size_bytes:,} bytes\")"
   ]
  },
  {
   "cell_type": "markdown",
   "metadata": {},
   "source": [
    "## 5. Download UBPR Data"
   ]
  },
  {
   "cell_type": "code",
   "execution_count": null,
   "metadata": {},
   "outputs": [],
   "source": [
    "# Download UBPR Ratio data\n",
    "print(\"Downloading UBPR Ratio data...\")\n",
    "result = downloader.download(\n",
    "    product=Product.UBPR_RATIO_SINGLE,\n",
    "    period=\"20240331\",\n",
    "    format=FileFormat.XBRL\n",
    ")\n",
    "\n",
    "if result.success:\n",
    "    print(f\"✓ Downloaded: {result.filename}\")"
   ]
  },
  {
   "cell_type": "markdown",
   "metadata": {},
   "source": [
    "## 6. Bulk Download Multiple Quarters"
   ]
  },
  {
   "cell_type": "code",
   "execution_count": null,
   "metadata": {},
   "outputs": [],
   "source": [
    "# Download multiple quarters\n",
    "quarters_to_download = [\"20240331\", \"20231231\", \"20230930\", \"20230630\"]\n",
    "results = []\n",
    "\n",
    "for quarter in quarters_to_download:\n",
    "    print(f\"Downloading {quarter}...\", end=\" \")\n",
    "    result = downloader.download_cdr_single_period(quarter, FileFormat.XBRL)\n",
    "    results.append(result)\n",
    "    \n",
    "    if result.success:\n",
    "        print(f\"✓ ({result.size_bytes:,} bytes)\")\n",
    "    else:\n",
    "        print(f\"✗ Failed\")\n",
    "\n",
    "print(f\"\\nCompleted: {sum(1 for r in results if r.success)}/{len(results)} downloads\")"
   ]
  },
  {
   "cell_type": "markdown",
   "metadata": {},
   "source": [
    "## 7. Get Metadata About Available Data"
   ]
  },
  {
   "cell_type": "code",
   "execution_count": null,
   "metadata": {},
   "outputs": [],
   "source": [
    "# Get CDR bulk data source information\n",
    "cdr_info = downloader.get_bulk_data_sources_cdr()\n",
    "\n",
    "print(\"Call Report Data Information:\")\n",
    "print(f\"Latest published: {cdr_info['published_date']}\")\n",
    "print(f\"Available quarters: {len(cdr_info['available_quarters'])}\")\n",
    "print(f\"Date range: {cdr_info['available_quarters'][-1]} to {cdr_info['available_quarters'][0]}\")\n",
    "\n",
    "print(\"\\n\" + \"=\"*50 + \"\\n\")\n",
    "\n",
    "# Get UBPR bulk data source information\n",
    "ubpr_info = downloader.get_bulk_data_sources_ubpr()\n",
    "\n",
    "print(\"UBPR Data Information:\")\n",
    "print(f\"Latest published: {ubpr_info['published_date']}\")\n",
    "print(f\"Available quarters: {len(ubpr_info['available_quarters'])}\")"
   ]
  },
  {
   "cell_type": "markdown",
   "metadata": {},
   "source": [
    "## 8. Download to Memory (Without Saving to Disk)"
   ]
  },
  {
   "cell_type": "code",
   "execution_count": null,
   "metadata": {},
   "outputs": [],
   "source": [
    "# Download directly to memory for immediate processing\n",
    "from io import BytesIO\n",
    "import zipfile\n",
    "\n",
    "print(\"Downloading to memory...\")\n",
    "content = downloader.download(\n",
    "    product=Product.CALL_SINGLE,\n",
    "    period=\"20240331\",\n",
    "    format=FileFormat.TSV,\n",
    "    save_to_disk=False\n",
    ")\n",
    "\n",
    "if isinstance(content, BytesIO):\n",
    "    print(f\"✓ Downloaded {len(content.getvalue()):,} bytes to memory\")\n",
    "    \n",
    "    # Process the ZIP file directly from memory\n",
    "    with zipfile.ZipFile(content) as zf:\n",
    "        print(f\"\\nZIP contents:\")\n",
    "        for info in zf.filelist[:5]:  # Show first 5 files\n",
    "            print(f\"  - {info.filename} ({info.file_size:,} bytes)\")"
   ]
  },
  {
   "cell_type": "markdown",
   "metadata": {},
   "source": [
    "## 9. Using Validation (Website Structure Monitoring)"
   ]
  },
  {
   "cell_type": "code",
   "execution_count": null,
   "metadata": {},
   "outputs": [],
   "source": [
    "from ffiec_data_collector import ValidatedFFIECDownloader, ThumbprintValidator\n",
    "\n",
    "# Create a validated downloader that checks website structure before downloading\n",
    "validated_downloader = ValidatedFFIECDownloader(download_dir=download_dir)\n",
    "\n",
    "# The validator automatically checks if the FFIEC website structure has changed\n",
    "print(\"Performing validation check...\")\n",
    "\n",
    "try:\n",
    "    # This will validate the website structure before downloading\n",
    "    result = validated_downloader.download(\n",
    "        product=Product.CALL_SINGLE,\n",
    "        period=\"20240331\",\n",
    "        format=FileFormat.XBRL\n",
    "    )\n",
    "    print(f\"✓ Validation passed and download successful: {result.filename}\")\n",
    "except Exception as e:\n",
    "    print(f\"✗ Validation failed: {e}\")"
   ]
  },
  {
   "cell_type": "markdown",
   "metadata": {},
   "source": [
    "## 10. Check Website Health"
   ]
  },
  {
   "cell_type": "code",
   "execution_count": null,
   "metadata": {},
   "outputs": [],
   "source": [
    "# Check if FFIEC websites are healthy and match expected structure\n",
    "validator = ThumbprintValidator()\n",
    "\n",
    "print(\"Validating FFIEC website structure...\\n\")\n",
    "results = validator.validate_all()\n",
    "\n",
    "for page_type, result in results.items():\n",
    "    status = \"✓\" if result.get('valid', False) else \"✗\"\n",
    "    print(f\"{status} {page_type}: {'Valid' if result.get('valid', False) else 'Invalid'}\")\n",
    "    \n",
    "    if result.get('warnings'):\n",
    "        for warning in result['warnings']:\n",
    "            print(f\"  ⚠ {warning}\")\n",
    "    \n",
    "    if result.get('error'):\n",
    "        print(f\"  Error: {result['error']}\")"
   ]
  },
  {
   "cell_type": "markdown",
   "metadata": {},
   "source": [
    "## Advanced Example: Building a Data Pipeline"
   ]
  },
  {
   "cell_type": "code",
   "execution_count": null,
   "metadata": {},
   "outputs": [],
   "source": [
    "from datetime import datetime, timedelta\n",
    "import json\n",
    "\n",
    "class FFIECDataPipeline:\n",
    "    \"\"\"Example data pipeline for FFIEC data\"\"\"\n",
    "    \n",
    "    def __init__(self, download_dir=\"./pipeline_data\"):\n",
    "        self.downloader = FFIECDownloader(Path(download_dir))\n",
    "        self.metadata_file = Path(download_dir) / \"metadata.json\"\n",
    "        self.load_metadata()\n",
    "    \n",
    "    def load_metadata(self):\n",
    "        \"\"\"Load or initialize metadata tracking\"\"\"\n",
    "        if self.metadata_file.exists():\n",
    "            with open(self.metadata_file) as f:\n",
    "                self.metadata = json.load(f)\n",
    "        else:\n",
    "            self.metadata = {\"downloaded_quarters\": [], \"last_check\": None}\n",
    "    \n",
    "    def save_metadata(self):\n",
    "        \"\"\"Save metadata\"\"\"\n",
    "        self.metadata_file.parent.mkdir(exist_ok=True)\n",
    "        with open(self.metadata_file, 'w') as f:\n",
    "            json.dump(self.metadata, f, indent=2)\n",
    "    \n",
    "    def check_for_new_data(self):\n",
    "        \"\"\"Check if new data is available\"\"\"\n",
    "        cdr_info = self.downloader.get_bulk_data_sources_cdr()\n",
    "        available = set(cdr_info['available_quarters'])\n",
    "        downloaded = set(self.metadata['downloaded_quarters'])\n",
    "        \n",
    "        new_quarters = available - downloaded\n",
    "        return sorted(list(new_quarters), reverse=True)\n",
    "    \n",
    "    def download_new_quarters(self, max_downloads=5):\n",
    "        \"\"\"Download any new quarters available\"\"\"\n",
    "        new_quarters = self.check_for_new_data()\n",
    "        \n",
    "        if not new_quarters:\n",
    "            print(\"No new data available\")\n",
    "            return []\n",
    "        \n",
    "        print(f\"Found {len(new_quarters)} new quarters\")\n",
    "        results = []\n",
    "        \n",
    "        for quarter in new_quarters[:max_downloads]:\n",
    "            print(f\"Downloading {quarter}...\")\n",
    "            result = self.downloader.download_cdr_single_period(quarter)\n",
    "            \n",
    "            if result.success:\n",
    "                self.metadata['downloaded_quarters'].append(quarter)\n",
    "                results.append(quarter)\n",
    "                print(f\"  ✓ Success: {result.filename}\")\n",
    "            else:\n",
    "                print(f\"  ✗ Failed: {result.error_message}\")\n",
    "        \n",
    "        self.metadata['last_check'] = datetime.now().isoformat()\n",
    "        self.save_metadata()\n",
    "        \n",
    "        return results\n",
    "\n",
    "# Use the pipeline\n",
    "pipeline = FFIECDataPipeline()\n",
    "new_data = pipeline.download_new_quarters(max_downloads=2)\n",
    "\n",
    "if new_data:\n",
    "    print(f\"\\nSuccessfully downloaded {len(new_data)} new quarters: {new_data}\")\n",
    "else:\n",
    "    print(\"\\nNo new data downloaded\")"
   ]
  },
  {
   "cell_type": "markdown",
   "metadata": {},
   "source": [
    "## Summary\n",
    "\n",
    "This notebook demonstrated:\n",
    "\n",
    "1. **Basic Downloads** - Downloading Call Reports and UBPR data\n",
    "2. **Multiple Formats** - Using XBRL and TSV formats\n",
    "3. **Bulk Operations** - Downloading multiple quarters\n",
    "4. **Memory Operations** - Processing data without saving to disk\n",
    "5. **Validation** - Ensuring website structure hasn't changed\n",
    "6. **Pipeline Example** - Building an automated data pipeline\n",
    "\n",
    "The FFIEC Data Collector provides a lightweight, reliable way to access FFIEC bulk data programmatically."
   ]
  }
 ],
 "metadata": {
  "kernelspec": {
   "display_name": "data-collector",
   "language": "python",
   "name": "python3"
  },
  "language_info": {
   "codemirror_mode": {
    "name": "ipython",
    "version": 3
   },
   "file_extension": ".py",
   "mimetype": "text/x-python",
   "name": "python",
   "nbconvert_exporter": "python",
   "pygments_lexer": "ipython3",
   "version": "3.13.5"
  }
 },
 "nbformat": 4,
 "nbformat_minor": 4
}